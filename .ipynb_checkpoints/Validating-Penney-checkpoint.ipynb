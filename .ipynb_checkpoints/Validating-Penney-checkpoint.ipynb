{
 "cells": [
  {
   "cell_type": "markdown",
   "metadata": {},
   "source": [
    "# Appendix: An interactive Jupyter notebook session to accompany: \"Penney's game odds from no-arbitrage\" by Miller, J.B. (2019)\n",
    "\n",
    "\n",
    "see XX for .ipynb and .py files.\n",
    "\n",
    "See Appendix B below for conway.py source code. \n",
    "\n",
    "\n",
    "\n",
    "This interactive notebook explores an algorithm that solves a generalized version of Penney's pattern-matching game for a q-sided die ($q\\geq 3$), with potentially unequal probabilities.\n",
    "\n",
    "The solution implements a generalized version of Conway's leading number algorithm , and cross-validates it via simulation.\n",
    "\n",
    "References\n",
    "1. Miller, J.B. (2019) \"Penney's game odds: a no-arbitrage argument\", Arxiv [PDF Download]()\n",
    "2. Li, Shuo-Yen Robert. (1980) A martingale approach to the study of occurrence of sequence patterns in repeated experiments.\" _the Annals of Probability_, 8(6) 1171-1176. [PDF Download](https://projecteuclid.org/euclid.aop/1176994578)\n",
    "3. Guibas, L. J. & Odlyzko, A. M. (1981), \"String overlaps, pattern matching, and nontransitive games\",\n",
    " _Journal of Combinatorial Theory, Series A_ 30(2), 183--208. [PDF Download](https://core.ac.uk/download/pdf/81142890.pdf)\n",
    "2. "
   ]
  },
  {
   "cell_type": "markdown",
   "metadata": {},
   "source": [
    "# Conway.py source code:"
   ]
  },
  {
   "cell_type": "code",
   "execution_count": 51,
   "metadata": {},
   "outputs": [],
   "source": [
    "#!/usr/bin/env python\n",
    "\n",
    "''' \n",
    "conway.py: For solving generalized Penney's game with \n",
    "generalized Conway formula, including simulations.\n",
    "\n",
    "For background, see Miller(2019) '' \n",
    "'''\n",
    "\n",
    "import numpy as np\n",
    "\n",
    "\n",
    "__author__ = \"Joshua B. Miller\"\n",
    "__copyright__ = \"Creative Commons\"\n",
    "__credits__ = \"none\"\n",
    "__license__ = \"GPL\"\n",
    "__version__ = \"0.0.1\"\n",
    "__maintainer__ = \"Joshua B. Miller\"\n",
    "__email__ = \"joshua.benjamin.miller@gmail.com\"\n",
    "__status__ = \"Prototype\"\n",
    "\n",
    "\n",
    "def payoff_to_B_bets_if_A_occurs_first(A,B,alphabet):\n",
    "    ''' (string, string, dictionary)-> (float)\n",
    "    The fair payoff to all B bets if pattern A appears first.\n",
    "    This function calculates the fair payoff to someone who initiates a \n",
    "    fresh sequence of bets each period in which bets anticipate pattern B\n",
    "\n",
    "    note: Assuming the sequence ends at trial t>len(B), then when pattern A occurs\n",
    "    there will be up to len(B) ongoing, and overlapping, B-bet sequences  .\n",
    "\n",
    "    For example:\n",
    "    >>>A='THH'\n",
    "    >>>B='HHH'\n",
    "    >>>alphabet={'T':.5, 'H':.5})\n",
    "    >>>AB=payoff_to_B_bets_if_A_occurs_first(A,B,alphabet)\n",
    "    Then in this case AB=4+2=6 as B betters who enter at T-2 lose immediately,\n",
    "    those who enter at T-1 win twice,   and those who enter at T win once. \n",
    "\n",
    "\n",
    "    '''\n",
    "    #make sure alphabet is a valid categorical distribution\n",
    "    #(tolerate 1e-10 deviation; not too strict on the sum for precision issues)\n",
    "    if abs(sum(alphabet.values())-1) > 1e-10:\n",
    "        raise Exception(\"Alphabet is not a valid probability distribution\")\n",
    "\n",
    "    #make sure keys are strings\n",
    "    if any( type(el) is not str for el in alphabet.keys() ) :\n",
    "        raise Exception(\"only strings please\")\n",
    "    \n",
    "    #make sure strings are of length 1\n",
    "    if any( len(el)>1 for el in alphabet.keys() ) :\n",
    "        raise Exception(\"Strings must be length 1\")\n",
    "\n",
    "\n",
    "    #Make sure all characters in the patterns appear in the Alphabet\n",
    "    if any(char not in alphabet.keys() for char in A+B  ):\n",
    "        raise Exception(\"All chacters must appear in the Alphabet\")\n",
    "\n",
    "    #make sure B is not a strict substring of A (or it will appear first for sure) \n",
    "    # and vice-versa\n",
    "    if ( len(B)<len(A) and A.find(B)>-1) or ( len(A)<len(B) and B.find(A)>-1):\n",
    "        raise Exception(\"one string cannot be a strict substring of another\")\n",
    "    \n",
    "    # Calculate AB, the total payoffs from each sequence of bets anticipating pattern B\n",
    "    # that are still active when the sequence stops at A\n",
    "    AB = 0\n",
    "    for i in range(len(A)):\n",
    "        A_trailing = A[i:]\n",
    "        B_leading = B[0:len(A_trailing)]\n",
    "        if A_trailing == B_leading:\n",
    "            #The sequence of bets anticipating B that are initiated at i (relatively)\n",
    "            #need to be paid when A occurs if there is perfect overlap of the leading characters of B \n",
    "            # with the trailing characters of A\n",
    "            #Why?The person waiting for B to occcur hasn't gone bankrupt yet, \n",
    "            #This person gets paid for betting correctly on every realization in A_trailing\n",
    "\n",
    "            #On bet i, \"wealth\" is the amount invested predicting the event A_trailing[i],\n",
    "            #this investment gets a fair gross rate of return\n",
    "            #equal to the inverse of the probability of the event (1/alphabet[A_trailing[i]])\n",
    "            wealth=1\n",
    "            for i in range(len(A_trailing)):\n",
    "                gross_return = 1/alphabet[A_trailing[i]]\n",
    "                wealth = wealth*gross_return\n",
    "            AB = AB + wealth\n",
    "    return AB\n",
    "\n",
    "def oddsAB(A,B,alphabet):\n",
    "    ''' (string, string, dictionary)-> [list]\n",
    "    returns odds against pattern A preceding pattern B\n",
    "    odds[0] = \"chances against A\"\n",
    "    odds[1] = \"chances in favor of A\"\n",
    "    \n",
    "    note: odds= 2* Conway's odds; see Miller (2019) for proof\n",
    "    '''\n",
    " \n",
    "    if A==B:\n",
    "        raise Exception(\"A==B; patterns cannot precede themselves\")\n",
    "    elif ( len(B)<len(A) and A.find(B)>-1): #if B is strict substring of A\n",
    "        odds = [1,0]    \n",
    "    elif ( len(A)<len(B) and B.find(A)>-1): #if A is strict substring of B\n",
    "        odds = [0,1] \n",
    "    else:\n",
    "        AA=  payoff_to_B_bets_if_A_occurs_first(A,A,alphabet)\n",
    "        AB = payoff_to_B_bets_if_A_occurs_first(A,B,alphabet)\n",
    "        BB = payoff_to_B_bets_if_A_occurs_first(B,B,alphabet)\n",
    "        BA = payoff_to_B_bets_if_A_occurs_first(B,A,alphabet)\n",
    "        odds = [AA-AB , BB-BA]\n",
    "\n",
    "    return odds\n",
    "\n",
    "def probAB(A,B,alphabet):\n",
    "    ''' (string, string, dictionary)-> (float)\n",
    "            probability pattern A precedes pattern B\n",
    "            note: odds are o[0] chances against for every o[1] chances in favor\n",
    "            there are o[0]+o[1]\n",
    "    '''\n",
    "    o = oddsAB(A,B,alphabet)\n",
    "    return o[1]/(o[0]+o[1])\n",
    "\n",
    "def expected_waiting_time(A,B,alphabet):\n",
    "    ''' (string, string, dictionary)-> (float)\n",
    "            expected waiting time until the first occurance of A or B\n",
    "            see Miller (2019) for derivation\n",
    "    '''\n",
    "\n",
    "    if A==B:\n",
    "        wait = payoff_to_B_bets_if_A_occurs_first(A,A,alphabet)\n",
    "    elif ( len(B)<len(A) and A.find(B)>-1): #if B is strict substring of A\n",
    "        wait = payoff_to_B_bets_if_A_occurs_first(B,B,alphabet) \n",
    "    elif ( len(A)<len(B) and B.find(A)>-1): #if A is strict substring of B\n",
    "        wait = payoff_to_B_bets_if_A_occurs_first(A,A,alphabet)\n",
    "    else:\n",
    "        AA=  payoff_to_B_bets_if_A_occurs_first(A,A,alphabet)\n",
    "        AB = payoff_to_B_bets_if_A_occurs_first(A,B,alphabet)\n",
    "        BB = payoff_to_B_bets_if_A_occurs_first(B,B,alphabet)\n",
    "        BA = payoff_to_B_bets_if_A_occurs_first(B,A,alphabet)\n",
    "        wait = (AA*BB - AB*BA)/(AA + BB - AB - BA)\n",
    "    return wait\n",
    "\n",
    "def simulate_winrates_penney_game(A,B,alphabet,number_of_sequences):\n",
    "    '''\n",
    "    (string, string, dictionary, integer)-> (list)\n",
    "    Play generalized Penney's game and calculate how often\n",
    "    pattern A precedes pattern B, and vice versa\n",
    "\n",
    "    '''\n",
    "    N = number_of_sequences\n",
    "    \n",
    "    #The letters in the dicitonary have a categorical distribution\n",
    "    #defined by the key, value pairs\n",
    "    outcomes = list(alphabet.keys())\n",
    "    probabilities = list(alphabet.values())\n",
    "    \n",
    "    n_wins = np.array([0, 0])\n",
    "    n_flips = 0\n",
    "    \n",
    "    for i in range(N):\n",
    "        max_length=max(len(A),len(B))\n",
    "        window = ['!']* max_length\n",
    "        #on each experiment draw from dictionary until either pattern A,\n",
    "        # or pattern B appears\n",
    "        while True:\n",
    "            window.pop(0)\n",
    "            draw=np.random.choice(outcomes, 1, replace=True, p=probabilities)\n",
    "            n_flips += 1\n",
    "            window.append(draw[0])\n",
    "            ch_window = \"\".join(map(str,window))\n",
    "            if ch_window[max_length-len(A):] == A:\n",
    "                n_wins[0] += 1\n",
    "                break\n",
    "            elif ch_window[max_length-len(B):] == B:\n",
    "                n_wins[1] += 1\n",
    "                break\n",
    "\n",
    "    winrates = n_wins/N\n",
    "    av_n_flips = n_flips/N\n",
    "    return winrates, av_n_flips\n",
    "\n",
    "def all_patterns(j,alphabet):\n",
    "    '''\n",
    "    recusively builds all patterns of length j from alphabet\n",
    "    note: before calling must initialize following two lists within module:\n",
    "    >>>k=3\n",
    "    >>>conway.list_pattern=['-']*k\n",
    "    >>>conway.patterns = []\n",
    "    >>>conway.all_patterns(k,alphabet)\n",
    "    >>>patterns = conway.patterns\n",
    "    '''\n",
    "    global list_pattern\n",
    "    global patterns\n",
    "    if j == 1:\n",
    "        for key in alphabet.keys():\n",
    "            list_pattern[-j] = key\n",
    "            string_pattern = ''.join(list_pattern)\n",
    "            patterns.append(string_pattern)\n",
    "    else:\n",
    "        for key in alphabet.keys():\n",
    "            list_pattern[-j] = key\n",
    "            all_patterns(j-1,alphabet)\n",
    "\n"
   ]
  },
  {
   "cell_type": "markdown",
   "metadata": {},
   "source": [
    "### Third party modules and directory check"
   ]
  },
  {
   "cell_type": "code",
   "execution_count": 1,
   "metadata": {},
   "outputs": [],
   "source": [
    "import time\n",
    "import os        #for benchmarking\n",
    "import numpy as np\n",
    "#in case we need to update user-defined code e.g. importlib.reload(diffP)\n",
    "import importlib\n"
   ]
  },
  {
   "cell_type": "code",
   "execution_count": 32,
   "metadata": {},
   "outputs": [
    {
     "name": "stdout",
     "output_type": "stream",
     "text": [
      "C:\\Users\\Miller\\Dropbox\\josh\\work\\projects\\Patterns\\python\n",
      "conway.py\n"
     ]
    }
   ],
   "source": [
    "current_dir=os.getcwd()\n",
    "print(current_dir)\n",
    "for file in os.listdir(current_dir):\n",
    "    if file[-3:]=='.py':\n",
    "        print(file)"
   ]
  },
  {
   "cell_type": "markdown",
   "metadata": {},
   "source": [
    "### Desciption of code in \"conway.py\""
   ]
  },
  {
   "cell_type": "code",
   "execution_count": 2,
   "metadata": {},
   "outputs": [
    {
     "name": "stdout",
     "output_type": "stream",
     "text": [
      "Locked and loaded\n"
     ]
    }
   ],
   "source": [
    "import conway  #The programs live here\n",
    "importlib.reload(conway)\n",
    "#help(conway)\n",
    "print('Locked and loaded')"
   ]
  },
  {
   "cell_type": "markdown",
   "metadata": {},
   "source": [
    "## Inspect functions"
   ]
  },
  {
   "cell_type": "markdown",
   "metadata": {},
   "source": [
    "### Let's test the generalized Conway leading number\n",
    "\n",
    "note: In the speccial case of a fair coin flip, this is $2\\times \\text{Conway Leading Number}$\n",
    "\n",
    "Conway leading number is an (asymmetric) measure of overlap between two patterns A and B.\n",
    "\n",
    "AB measures how the leading numbers of B overlap with the trailing numbers of A, as B is shifted to the right (assuming B is not a subpattern of A)\n",
    "\n",
    "Here is the function:"
   ]
  },
  {
   "cell_type": "code",
   "execution_count": 6,
   "metadata": {
    "scrolled": true
   },
   "outputs": [
    {
     "name": "stdout",
     "output_type": "stream",
     "text": [
      "Help on function payoff_to_B_bettors_if_A_occurs_first in module conway:\n",
      "\n",
      "payoff_to_B_bettors_if_A_occurs_first(A, B, alphabet)\n",
      "    (string, string, dictionary)-> (float)\n",
      "    Calculates the fair payoff to those betting on characters according \n",
      "    to pattern B, if pattern A occurs first.\n",
      "    \n",
      "    For example:\n",
      "    >>>A='THH'\n",
      "    >>>B='HHH'\n",
      "    >>>alphabet={'T':.5, 'H':.5})\n",
      "    >>>AB=payoff_to_B_bettors_if_A_occurs_first(A,B,alphabet)\n",
      "    Then in this case AB=4+2=6 as B betters who come in at T-1 win twice, \n",
      "    and those that come in at T win once.\n",
      "\n"
     ]
    }
   ],
   "source": [
    "help(conway.payoff_to_B_bettors_if_A_occurs_first)"
   ]
  },
  {
   "cell_type": "markdown",
   "metadata": {},
   "source": [
    "If A=THH comes first, how much does a player who, on each trial, initiates a asequence of bets on characters according to B=HHH, get paid?\n",
    "\n",
    "The players that arrive at time T-1 and time T walk out with \\$4 and \\$2 respectively, for a total of \\$6\n"
   ]
  },
  {
   "cell_type": "code",
   "execution_count": 17,
   "metadata": {
    "scrolled": false
   },
   "outputs": [
    {
     "name": "stdout",
     "output_type": "stream",
     "text": [
      "6.0\n"
     ]
    }
   ],
   "source": [
    "distribution={'H':.5, 'T':.5}\n",
    "A = \"THH\"\n",
    "B = \"HHH\"\n",
    "print(conway.payoff_to_B_bets_if_A_occurs_first(A, B, distribution))"
   ]
  },
  {
   "cell_type": "markdown",
   "metadata": {},
   "source": [
    "### Let's test the generalized Conway leading number algorithm\n",
    "\n",
    "Here is the function:"
   ]
  },
  {
   "cell_type": "code",
   "execution_count": 18,
   "metadata": {
    "scrolled": false
   },
   "outputs": [
    {
     "name": "stdout",
     "output_type": "stream",
     "text": [
      "Help on function oddsAB in module conway:\n",
      "\n",
      "oddsAB(A, B, alphabet)\n",
      "    (string, string, dictionary)-> [list]\n",
      "    returns odds against pattern A preceding pattern B\n",
      "    odds[0] = \"chances against A\"\n",
      "    odds[1] = \"chances in favor of A\"\n",
      "    \n",
      "    note: odds= 2* Conway's odds; see Miller (2019) for proof\n",
      "\n"
     ]
    }
   ],
   "source": [
    "help(conway.oddsAB)"
   ]
  },
  {
   "cell_type": "markdown",
   "metadata": {},
   "source": [
    "What are the odds that that pattern A=HTH precedes pattern B=TTH?\n",
    "\n",
    "In the case that A occurs before B, i.e we compare the trailing characters of $A\\cdot$\n",
    "* $AA=8+0+2=10$        (the $A$-bets initiated at $T-2$ and $T$ are winners)\n",
    "* $AB=0+0+0=0$    (the $B$-bets never win)\n",
    "\n",
    "In the case that B occurs before A, i.e we compare the trailing characters of $B\\cdot$\n",
    "* $BB=8+0+0=8$ (the $B$-bet inititiated at $T-2$ is a winner)\n",
    "* $BA=0+0+2=2$        (the $A$-bet initiated at $T$ is a winner)\n",
    "\n",
    "so odds against $A$ occuring before $B$ are ${AA-AB}:{BB-BA} = 10:6$, or $5:3$\n",
    "\n",
    "this translates to a probability that $A$ occurs first equal to $3/8$\n",
    "\n",
    "Let's check this below:"
   ]
  },
  {
   "cell_type": "code",
   "execution_count": 19,
   "metadata": {
    "scrolled": true
   },
   "outputs": [
    {
     "name": "stdout",
     "output_type": "stream",
     "text": [
      "odds against A = [chances against, chances in favor] =  [10.0, 6.0]\n",
      "probability A occurs before B =  0.375\n"
     ]
    }
   ],
   "source": [
    "distribution={'H':.5, 'T':.5}\n",
    "A = \"HTH\"\n",
    "B = \"TTH\"\n",
    "print('odds against A = [chances against, chances in favor] = ',conway.oddsAB(A, B, distribution))\n",
    "\n",
    "print('probability A occurs before B = ', conway.probAB(A, B, distribution))\n"
   ]
  },
  {
   "cell_type": "markdown",
   "metadata": {},
   "source": [
    "## Cross-Validating the code.\n",
    "\n"
   ]
  },
  {
   "cell_type": "markdown",
   "metadata": {},
   "source": [
    "### Replicating original Penney's Game odds (patterns of length 3)\n"
   ]
  },
  {
   "cell_type": "markdown",
   "metadata": {},
   "source": [
    "Let's create the table, the probability the row pattern comes before the column pattern, and cross-validate with table from Gardner\n"
   ]
  },
  {
   "cell_type": "code",
   "execution_count": 97,
   "metadata": {},
   "outputs": [
    {
     "name": "stdout",
     "output_type": "stream",
     "text": [
      "Help on function all_patterns in module conway:\n",
      "\n",
      "all_patterns(j, alphabet)\n",
      "    recusively builds all patterns of length j from alphabet\n",
      "    note: before calling must initialize following two lists:\n",
      "    >>>k=3\n",
      "    >>>list_pattern=['-']*k\n",
      "    >>>patterns = []\n",
      "\n",
      "all patterns of length 3 =  ['HHH', 'HHT', 'HTH', 'HTT', 'THH', 'THT', 'TTH', 'TTT']\n",
      "----------------------------------------------------------------------\n",
      "\tHHH\tHHT\tHTH\tHTT\tTHH\tTHT\tTTH\tTTT\n",
      "HHH\t\t1 / 2\t2 / 5\t2 / 5\t1 / 8\t5 / 12\t3 / 10\t1 / 2\n",
      "HHT\t1 / 2\t\t2 / 3\t2 / 3\t1 / 4\t5 / 8\t1 / 2\t7 / 10\n",
      "HTH\t3 / 5\t1 / 3\t\t1 / 2\t1 / 2\t1 / 2\t3 / 8\t7 / 12\n",
      "HTT\t3 / 5\t1 / 3\t1 / 2\t\t1 / 2\t1 / 2\t3 / 4\t7 / 8\n",
      "THH\t7 / 8\t3 / 4\t1 / 2\t1 / 2\t\t1 / 2\t1 / 3\t3 / 5\n",
      "THT\t7 / 12\t3 / 8\t1 / 2\t1 / 2\t1 / 2\t\t1 / 3\t3 / 5\n",
      "TTH\t7 / 10\t1 / 2\t5 / 8\t1 / 4\t2 / 3\t2 / 3\t\t1 / 2\n",
      "TTT\t1 / 2\t3 / 10\t5 / 12\t1 / 8\t2 / 5\t2 / 5\t1 / 2\t\n",
      "----------------------------------------------------------------------\n"
     ]
    }
   ],
   "source": [
    "from fractions import Fraction\n",
    "\n",
    "pH = .5\n",
    "pT = 1-pH\n",
    "distribution={'H':pH, 'T':pT}\n",
    "\n",
    "k = 3\n",
    "#initialize the globals within the module\n",
    "conway.list_pattern=['-']*k\n",
    "conway.patterns = []\n",
    "\n",
    "#build the patterns\n",
    "help(conway.all_patterns)\n",
    "conway.all_patterns(k,distribution)\n",
    "\n",
    "patterns = conway.patterns\n",
    "\n",
    "print(\"all patterns of length\",k,\"= \",patterns)\n",
    "\n",
    "\n",
    "row = 0\n",
    "print(\"-\" * 70)\n",
    "print(\"\", end='\\t')\n",
    "print(*patterns, sep='\\t')\n",
    "\n",
    "while row < 8:\n",
    "    col = 0\n",
    "    print(patterns[row],end='\\t')\n",
    "    while col <= 7:\n",
    "        r='\\t'\n",
    "        if col ==7:\n",
    "            r='\\n'\n",
    "        if patterns[row]==patterns[col]:\n",
    "           print('', end=r) \n",
    "        else:\n",
    "            o=conway.oddsAB(patterns[row],patterns[col], distribution)\n",
    "            F = Fraction(int(o[1]),int(o[0]+o[1]))\n",
    "            N = F.numerator\n",
    "            D = F.denominator\n",
    "            print(N,\"/\",D,end=r)\n",
    "        col += 1\n",
    "    row += 1\n",
    "print(\"-\" * 70)\n",
    "\n"
   ]
  },
  {
   "cell_type": "markdown",
   "metadata": {},
   "source": [
    "Gardner's table (they match):"
   ]
  },
  {
   "cell_type": "markdown",
   "metadata": {},
   "source": [
    "\n",
    "\n",
    "<img src=\"Gardner-penney-table.PNG\" align=\"left\" alt=\"drawing\" width=\"450\"/>"
   ]
  },
  {
   "cell_type": "markdown",
   "metadata": {},
   "source": [
    "### Cross-validate the odds function by simulation\n",
    "\n",
    "here is the simulation function:"
   ]
  },
  {
   "cell_type": "code",
   "execution_count": 11,
   "metadata": {},
   "outputs": [
    {
     "name": "stdout",
     "output_type": "stream",
     "text": [
      "Help on function simulate_winrates_penney_game in module conway:\n",
      "\n",
      "simulate_winrates_penney_game(A, B, alphabet, number_of_trials)\n",
      "    (string, string, dictionary, integer)-> (list)\n",
      "    Play generalized Penney's game and calculate how often\n",
      "    pattern A precedes pattern B, and vice versa\n",
      "\n"
     ]
    }
   ],
   "source": [
    "help(conway.simulate_winrates_penney_game)"
   ]
  },
  {
   "cell_type": "markdown",
   "metadata": {},
   "source": [
    "Cross-validate the simple case"
   ]
  },
  {
   "cell_type": "code",
   "execution_count": 258,
   "metadata": {},
   "outputs": [
    {
     "name": "stdout",
     "output_type": "stream",
     "text": [
      "Pr(A<B)   =  0.375    (Theoretical Probability)\n",
      "Prop(A<B) =  0.383    (Simulation with N = 10000  trials)\n",
      "\n",
      "E[number of flips] =  5.00         (Theoretical Expectation)\n",
      "Average number of flips =  5.00    (Simulation with N = 10000  trials)\n"
     ]
    }
   ],
   "source": [
    "distribution={'H':.5, 'T':.5}\n",
    "A = \"HTH\"\n",
    "B = \"TTH\"\n",
    "\n",
    "\n",
    "p = conway.probAB(A,B,distribution)\n",
    "wait = conway.expected_waiting_time(A,B,distribution)\n",
    "\n",
    "N=10000\n",
    "np.random.seed(0)\n",
    "prop, average_n_flips= conway.simulate_winrates_penney_game(A,B,distribution,N)\n",
    "\n",
    "print('Pr(A<B)   = ', \"%.3f\" %p , '   (Theoretical Probability)')\n",
    "print('Prop(A<B) = ', \"%.3f\" %prop[0], '   (Simulation with N =', N, ' trials)\\n')\n",
    "print('E[number of flips] = ', \"%.2f\" %wait , '        (Theoretical Expectation)') \n",
    "print('Average number of flips = ', \"%.2f\" %average_n_flips, '   (Simulation with N =', N, ' trials)')"
   ]
  },
  {
   "cell_type": "markdown",
   "metadata": {},
   "source": [
    "Let's cross validate generalized Conway w/small alphabet & unequal probalities:\n",
    "\n",
    "The simulation validates the formula"
   ]
  },
  {
   "cell_type": "code",
   "execution_count": 259,
   "metadata": {
    "scrolled": true
   },
   "outputs": [
    {
     "name": "stdout",
     "output_type": "stream",
     "text": [
      "Pr(A<B)   =  0.703    (Theoretical Probability)\n",
      "Prop(A<B) =  0.709    (Simulation with N = 10000  trials)\n",
      "\n",
      "E[number of flips] =  6.33         (Theoretical Expectation)\n",
      "Average number of flips =  6.35    (Simulation with N = 10000  trials)\n"
     ]
    }
   ],
   "source": [
    "distribution={'H':.75, 'T':.25}\n",
    "A = \"HTH\"\n",
    "B = \"TTH\"\n",
    "\n",
    "p = conway.probAB(A,B,distribution)\n",
    "wait = conway.expected_waiting_time(A,B,distribution)\n",
    "\n",
    "N=10000\n",
    "np.random.seed(0)\n",
    "prop, average_n_flips= conway.simulate_winrates_penney_game(A,B,distribution,N)\n",
    "\n",
    "print('Pr(A<B)   = ', \"%.3f\" %p , '   (Theoretical Probability)')\n",
    "print('Prop(A<B) = ', \"%.3f\" %prop[0], '   (Simulation with N =', N, ' trials)\\n')\n",
    "print('E[number of flips] = ', \"%.2f\" %wait , '        (Theoretical Expectation)') \n",
    "print('Average number of flips = ', \"%.2f\" %average_n_flips, '   (Simulation with N =', N, ' trials)')"
   ]
  },
  {
   "cell_type": "markdown",
   "metadata": {},
   "source": [
    "Let's cross validate Conway for longer patterns:\n",
    "\n",
    "The simulation validates the formula"
   ]
  },
  {
   "cell_type": "code",
   "execution_count": 260,
   "metadata": {
    "scrolled": true
   },
   "outputs": [
    {
     "name": "stdout",
     "output_type": "stream",
     "text": [
      "Pr(A<B)   =  0.438    (Theoretical Probability)\n",
      "Prop(A<B) =  0.447    (Simulation with N = 10000  trials)\n",
      "\n",
      "E[number of flips] =  9.88         (Theoretical Expectation)\n",
      "Average number of flips =  9.81    (Simulation with N = 10000  trials)\n"
     ]
    }
   ],
   "source": [
    "distribution={'H':.5, 'T':.5}\n",
    "A = \"HTHT\"\n",
    "B = \"TTTH\"\n",
    "\n",
    "p = conway.probAB(A,B,distribution)\n",
    "wait = conway.expected_waiting_time(A,B,distribution)\n",
    "\n",
    "N=10000\n",
    "np.random.seed(0)\n",
    "prop, average_n_flips= conway.simulate_winrates_penney_game(A,B,distribution,N)\n",
    "\n",
    "print('Pr(A<B)   = ', \"%.3f\" %p , '   (Theoretical Probability)')\n",
    "print('Prop(A<B) = ', \"%.3f\" %prop[0], '   (Simulation with N =', N, ' trials)\\n')\n",
    "print('E[number of flips] = ', \"%.2f\" %wait , '        (Theoretical Expectation)') \n",
    "print('Average number of flips = ', \"%.2f\" %average_n_flips, '   (Simulation with N =', N, ' trials)')"
   ]
  },
  {
   "cell_type": "markdown",
   "metadata": {},
   "source": [
    "Let's cross validate generalized Conway w/with longer alphabet, unequal probabilities, and longer patterns\n",
    "\n",
    "The simulation validates the formula\n"
   ]
  },
  {
   "cell_type": "code",
   "execution_count": 262,
   "metadata": {
    "scrolled": true
   },
   "outputs": [
    {
     "name": "stdout",
     "output_type": "stream",
     "text": [
      "Pr(A<B)   =  0.667    (Theoretical Probability)\n",
      "Prop(A<B) =  0.674    (Simulation with N = 10000  trials)\n",
      "\n",
      "E[number of flips] =  22.00         (Theoretical Expectation)\n",
      "Average number of flips =  21.99    (Simulation with N = 10000  trials)\n"
     ]
    }
   ],
   "source": [
    "distribution={'a':.5, 'b':.25, 'c':.25}\n",
    "A = \"aaac\"\n",
    "B = \"abba\"\n",
    "\n",
    "p = conway.probAB(A,B,distribution)\n",
    "wait = conway.expected_waiting_time(A,B,distribution)\n",
    "\n",
    "N=10000\n",
    "np.random.seed(0)\n",
    "prop, average_n_flips= conway.simulate_winrates_penney_game(A,B,distribution,N)\n",
    "\n",
    "print('Pr(A<B)   = ', \"%.3f\" %p , '   (Theoretical Probability)')\n",
    "print('Prop(A<B) = ', \"%.3f\" %prop[0], '   (Simulation with N =', N, ' trials)\\n')\n",
    "print('E[number of flips] = ', \"%.2f\" %wait , '        (Theoretical Expectation)') \n",
    "print('Average number of flips = ', \"%.2f\" %average_n_flips, '   (Simulation with N =', N, ' trials)')"
   ]
  },
  {
   "cell_type": "markdown",
   "metadata": {},
   "source": [
    "Waiting time for COVFEFE vs. other patterns."
   ]
  },
  {
   "cell_type": "code",
   "execution_count": 13,
   "metadata": {},
   "outputs": [
    {
     "name": "stdout",
     "output_type": "stream",
     "text": [
      "Pr( COVFEFE < CCOVFEF )   =  0.490    (Theoretical Probability)\n",
      "------------------\n",
      "E[number of flips until COVFEFE or CCOVFEF ] =  4094648325.02         (Theoretical Expectation)\n"
     ]
    }
   ],
   "source": [
    "import string\n",
    "uppercase_alphabet = dict.fromkeys(string.ascii_uppercase, 0)\n",
    "distribution = {x: 1/26 for x in uppercase_alphabet}\n",
    "\n",
    "A = 'COVFEFE'\n",
    "B = 'CCOVFEF'\n",
    "\n",
    "p = conway.probAB(A,B,distribution)\n",
    "print('Pr(',A,'<',B,')   = ', \"%.3f\" %p , '   (Theoretical Probability)')\n",
    "print('------------------')\n",
    "wait = conway.expected_waiting_time(A,B,distribution)\n",
    "print('E[number of flips until',A,'or',B,'] = ', \"%.2f\" %wait , '        (Theoretical Expectation)') \n",
    "\n"
   ]
  },
  {
   "cell_type": "markdown",
   "metadata": {},
   "source": [
    "# Application\n",
    "\n",
    "What is the first mover's probability of winner if the second mover best responds, as a function of the probability of heads."
   ]
  },
  {
   "cell_type": "code",
   "execution_count": 76,
   "metadata": {},
   "outputs": [
    {
     "data": {
      "image/png": "[encoded data removed]",
      "text/plain": [
       "<matplotlib.figure.Figure at 0xabf17b8>"
      ]
     },
     "metadata": {},
     "output_type": "display_data"
    }
   ],
   "source": [
    "import matplotlib.pyplot as plt\n",
    "import numpy as np\n",
    "\n",
    "k = 3\n",
    "#initialize the globals within the module\n",
    "conway.list_pattern=['-']*k\n",
    "conway.patterns = []\n",
    "\n",
    "#build the patterns\n",
    "conway.all_patterns(k,distribution)\n",
    "patterns=conway.patterns\n",
    "\n",
    "pHs = [i/100 for i in range(1,100)]\n",
    "\n",
    "min_prob_each_pattern = [] \n",
    "\n",
    "#plt.gca().set_prop_cycle(None)\n",
    "\n",
    "for pH in pHs:\n",
    "    pT = 1-pH\n",
    "    distribution={'H':pH, 'T':pT}\n",
    "    \n",
    "    min_probs = []\n",
    "    for A in patterns:\n",
    "        probABs = []\n",
    "        for B in patterns:\n",
    "            if A != B:\n",
    "                probABs.append(conway.probAB(A,B,distribution))\n",
    "            else:\n",
    "                probABs.append(None)\n",
    "\n",
    "        min_probAB = min(p for p in probABs if p is not None)\n",
    "        min_probs.append(min_probAB)\n",
    "    min_prob_each_pattern.append(min_probs)\n",
    "    \n",
    "\n",
    "#plt.figure(figsize=(8, 6),facecolor=\"white\") \n",
    "\n",
    "#don't include gray borders\n",
    "plt.figure(facecolor=\"white\")\n",
    "#plt.style.use('grayscale')\n",
    "\n",
    "#don't incude negative x-axis\n",
    "plt.xlim(0, 1)\n",
    "\n",
    "\n",
    "\n",
    "#plot each graph\n",
    "i = 0\n",
    "for pattern in patterns:\n",
    "         \n",
    "        #make list x/y-values for plotting\n",
    "        min_probs = [min_prob_each_pattern[j][i] for j in range(len(pHs)) ]\n",
    "        plt.plot(pHs,min_probs,label=pattern)\n",
    "        i +=1\n",
    "\n",
    "\n",
    "#plot axis labels\n",
    "#plt.ylabel('Expected Proportion')\n",
    "#plt.xlabel('Number of shots')\n",
    "\n",
    "#plot reference lines\n",
    "plt.plot([0, 100], [.5, .5], 'k--',lw=.75)\n",
    "\n",
    "#plot legend\n",
    "plt.legend(bbox_to_anchor=(1, 1), loc=2,prop={'size': 8})\n",
    "\n",
    "\n",
    "#plot axis labels\n",
    "plt.ylabel('Probability wins worst match-up')\n",
    "plt.xlabel('Probability of Heads')\n",
    "\n",
    "\n",
    "#save figure\n",
    "filename = 'win_worst_case_'+str(k)+'.pdf'\n",
    "plt.savefig(filename, bbox_inches=\"tight\");  \n",
    "\n",
    "#plt.axis([0, 6, 0, 20])\n"
   ]
  },
  {
   "cell_type": "markdown",
   "metadata": {},
   "source": [
    "What is the expected waiting time for the game to end given the first mover's strategy (when second mover best responds) vs. if the first mover were waiting alone for the pattern."
   ]
  },
  {
   "cell_type": "code",
   "execution_count": 108,
   "metadata": {},
   "outputs": [
    {
     "data": {
      "image/png": "[encoded data removed]",
      "text/plain": [
       "<matplotlib.figure.Figure at 0xbe5a908>"
      ]
     },
     "metadata": {},
     "output_type": "display_data"
    }
   ],
   "source": [
    "import matplotlib.pyplot as plt\n",
    "import numpy as np\n",
    "#help(conway)\n",
    "\n",
    "#Difference in waiting time for each pattern, as a function of probability.\n",
    "\n",
    "k = 3\n",
    "#initialize the globals within the module\n",
    "conway.list_pattern=['-']*k\n",
    "conway.patterns = []\n",
    "\n",
    "#build the patterns\n",
    "pH =.5\n",
    "pT = 1-pH\n",
    "distribution={'H':pH, 'T':pT}\n",
    "conway.all_patterns(k,distribution)\n",
    "patterns=conway.patterns\n",
    "\n",
    "pHs = [i/1000 for i in range(300,701)]\n",
    "#print(pHs)\n",
    "diff_wait_time = []\n",
    "\n",
    "#plt.gca().set_prop_cycle(None)\n",
    "\n",
    "for pH in pHs:\n",
    "    pT = 1-pH\n",
    "    distribution={'H':pH, 'T':pT}\n",
    "\n",
    "    \n",
    "\n",
    "    diff_waiting_time_A = []\n",
    "    for A in patterns:\n",
    "        probABs = []\n",
    "        for B in patterns:\n",
    "            if A != B:    \n",
    "                probABs.append(conway.probAB(A,B,distribution))\n",
    "            else:\n",
    "                probABs.append(None)\n",
    "\n",
    "      \n",
    "\n",
    "        waiting_time_A = conway.expected_waiting_time(A,A,distribution) \n",
    "        \n",
    "        #in case of times\n",
    "        min_probAB = min(p for p in probABs if p is not None)\n",
    "        min_indices = [i for i in range(len(probABs)) if probABs[i]==min_probAB]\n",
    "        waiting_times_AminB =[]\n",
    "        for i in min_indices:\n",
    "            waiting_times_AminB.append(conway.expected_waiting_time(A,patterns[i],distribution))\n",
    "        \n",
    "        waiting_time_AB = min(waiting_times_AminB)\n",
    "        \n",
    "        diff_waiting_time_A.append(waiting_time_AB-waiting_time_A)\n",
    "    \n",
    "    diff_wait_time.append(diff_waiting_time_A)\n",
    "\n",
    "#print(wait_time_pairs)\n",
    "\n",
    "\n",
    "#plt.figure(figsize=(8, 6),facecolor=\"white\") \n",
    "\n",
    "#don't include gray borders\n",
    "#plt.figure(facecolor=\"white\")\n",
    "#plt.style.use('grayscale')\n",
    "\n",
    "#don't incude negative x-axis\n",
    "#plt.xlim(0, 50)\n",
    "\n",
    "\n",
    "\n",
    "#plot each graph\n",
    "i = 0\n",
    "#plot each graph\n",
    "i = 0\n",
    "for pattern in patterns:\n",
    "         \n",
    "        #make list x/y-values for plotting\n",
    "        y = [diff_wait_time[j][i] for j in range(len(pHs)) ]\n",
    "        plt.plot(pHs,y,label=pattern)\n",
    "        i +=1\n",
    "        \n",
    "        \n",
    "\n",
    "\n",
    "#plot axis labels\n",
    "#plt.ylabel('Expected Proportion')\n",
    "#plt.xlabel('Number of shots')\n",
    "\n",
    "#plot reference lines\n",
    "plt.plot([.3, .7], [0, 0], 'k--',lw=.75)\n",
    "\n",
    "#plot legend\n",
    "plt.legend(bbox_to_anchor=(1, 1), loc=2,prop={'size': 8})\n",
    "\n",
    "\n",
    "#plot axis labels\n",
    "plt.ylabel('E[time game ends] - E[time of pattern]')\n",
    "plt.xlabel('Probability of Heads')\n",
    "\n",
    "\n",
    "#save figure\n",
    "filename = 'waiting_time'+str(k)+'.pdf'\n",
    "plt.savefig(filename, bbox_inches=\"tight\");  "
   ]
  }
 ],
 "metadata": {
  "kernelspec": {
   "display_name": "Python 3",
   "language": "python",
   "name": "python3"
  },
  "language_info": {
   "codemirror_mode": {
    "name": "ipython",
    "version": 3
   },
   "file_extension": ".py",
   "mimetype": "text/x-python",
   "name": "python",
   "nbconvert_exporter": "python",
   "pygments_lexer": "ipython3",
   "version": "3.6.4"
  }
 },
 "nbformat": 4,
 "nbformat_minor": 2
}
